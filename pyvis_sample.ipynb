{
 "cells": [
  {
   "cell_type": "markdown",
   "metadata": {
    "colab_type": "text",
    "id": "view-in-github"
   },
   "source": [
    "<a href=\"https://colab.research.google.com/github/napoles-uach/streamlit_network/blob/main/pyvis_sample.ipynb\" target=\"_parent\"><img src=\"https://colab.research.google.com/assets/colab-badge.svg\" alt=\"Open In Colab\"/></a>"
   ]
  },
  {
   "cell_type": "code",
   "execution_count": 4,
   "metadata": {},
   "outputs": [],
   "source": [
    "from pyvis import network as net\n",
    "from IPython.display import display, HTML\n",
    "import networkx as nx\n",
    "from IPython.display import IFrame"
   ]
  },
  {
   "cell_type": "code",
   "execution_count": 5,
   "metadata": {
    "colab": {
     "base_uri": "https://localhost:8080/",
     "height": 438
    },
    "id": "sZhHSrb5L_qk",
    "outputId": "d9444d1f-3a58-43b9-b760-043b465a50ed"
   },
   "outputs": [
    {
     "name": "stdout",
     "output_type": "stream",
     "text": [
      "example.html\n"
     ]
    },
    {
     "data": {
      "text/html": [
       "\n",
       "        <iframe\n",
       "            width=\"100%\"\n",
       "            height=\"400px\"\n",
       "            src=\"example.html\"\n",
       "            frameborder=\"0\"\n",
       "            allowfullscreen\n",
       "            \n",
       "        ></iframe>\n",
       "        "
      ],
      "text/plain": [
       "<IPython.lib.display.IFrame at 0x20213d92ed0>"
      ]
     },
     "execution_count": 5,
     "metadata": {},
     "output_type": "execute_result"
    }
   ],
   "source": [
    "def show_graph_iframe(net, name):\n",
    "    net.show(name)\n",
    "    return IFrame(name, width='100%', height='400px')\n",
    "g=net.Network(height='400px', width='50%',heading='', notebook=True, cdn_resources='remote')\n",
    "g.add_node(1)\n",
    "g.add_node(2)\n",
    "g.add_node(3)\n",
    "g.add_edge(1,2)\n",
    "g.add_edge(2,3)\n",
    "# g.show('example.html')\n",
    "show_graph_iframe(g, 'example.html')\n",
    "# display(HTML('example.html'))"
   ]
  },
  {
   "cell_type": "code",
   "execution_count": null,
   "metadata": {
    "id": "J8aJu4g3Nf8o"
   },
   "outputs": [],
   "source": [
    "g2=net.Network(height='400px', width='80%',heading='', notebook=True, cdn_resources='remote')"
   ]
  },
  {
   "cell_type": "code",
   "execution_count": null,
   "metadata": {
    "id": "c2u_9V-qMLnM"
   },
   "outputs": [],
   "source": [
    "g2.add_nodes([1,2,3], value=[10, 100, 400], title=[\"I am node 1\", \"node 2 here\", \"and im node 3\"], x=[0, 50, 100], y=[100, 50, 50], label=[\"NODE 1\", \"NODE 2\", \"NODE 3\"], color=[\"#00ff1e\", \"#162347\", \"#dd4b39\"])\n"
   ]
  },
  {
   "cell_type": "code",
   "execution_count": null,
   "metadata": {
    "id": "lXV8O5GDsxcc"
   },
   "outputs": [],
   "source": [
    "g2.add_edges([[1,2],[2,3],[1,3]])"
   ]
  },
  {
   "cell_type": "code",
   "execution_count": null,
   "metadata": {
    "id": "iYaUxbzLuSeH"
   },
   "outputs": [],
   "source": [
    "g2.add_node(4,x=0,y=00,physics=False)\n",
    "g2.add_node(5,x=100,y=100,physics=False)"
   ]
  },
  {
   "cell_type": "code",
   "execution_count": null,
   "metadata": {
    "id": "2JeMRhYbNrb5"
   },
   "outputs": [],
   "source": [
    "def show_graph(net,name):\n",
    "  net.show(name)\n",
    "  display(HTML(name))"
   ]
  },
  {
   "cell_type": "code",
   "execution_count": null,
   "metadata": {
    "colab": {
     "base_uri": "https://localhost:8080/",
     "height": 438
    },
    "id": "aRrNFZBYN7yM",
    "outputId": "ed981f84-d3b9-4246-8a93-8be3741e5309"
   },
   "outputs": [],
   "source": [
    "show_graph_iframe(g2,'g2.html')"
   ]
  },
  {
   "cell_type": "code",
   "execution_count": null,
   "metadata": {
    "id": "GqCcuSZVOM2-"
   },
   "outputs": [],
   "source": [
    "ids=['C', 'N', 'C', 'N', 'C', 'C', 'C', 'O', 'N', 'C', 'O', 'N', 'C', 'C']\n"
   ]
  },
  {
   "cell_type": "code",
   "execution_count": null,
   "metadata": {
    "id": "8DRMBSK_RGLz"
   },
   "outputs": [],
   "source": [
    "xs=[2.776, 1.276, 0.3943, -1.0323, -1.0323, 0.3943, 0.7062, 2.1328, -0.4086, -1.8351, -2.9499, -2.147, -3.5736, -0.0967]\n"
   ]
  },
  {
   "cell_type": "code",
   "execution_count": null,
   "metadata": {
    "id": "CvXnVd5DRKaK"
   },
   "outputs": [],
   "source": [
    "ys=[0.0, 0.0, 1.2135, 0.75, -0.75, -1.2135, -2.6807, -3.1443, -3.6844, -3.2209, -4.2246, -1.7537, -1.2902, -5.1517]\n"
   ]
  },
  {
   "cell_type": "code",
   "execution_count": null,
   "metadata": {
    "id": "AYTBJqaxR9_Q"
   },
   "outputs": [],
   "source": [
    "bonds=[[0, 1], [1, 2], [2, 3], [3, 4], [4, 5], [5, 6], [6, 7], [6, 8], [8, 9], [9, 10], [9, 11], [11, 12], [8, 13], [5, 1], [11, 4]]\n"
   ]
  },
  {
   "cell_type": "code",
   "execution_count": null,
   "metadata": {
    "id": "vC6W5l4fRoLP"
   },
   "outputs": [],
   "source": [
    "g3=net.Network(height='400px', width='80%',heading='', notebook=True)"
   ]
  },
  {
   "cell_type": "code",
   "execution_count": null,
   "metadata": {
    "id": "HzMiXUyPSpNI"
   },
   "outputs": [],
   "source": [
    "g3.set_options('''\n",
    "var options = {\n",
    "    \"nodes\": {\n",
    "    \"borderWidth\": 2,\n",
    "    \"borderWidthSelected\": 4\n",
    "  },\n",
    "  \"edges\":{\n",
    "    \"width\":24\n",
    "  },\n",
    "  \"physics\": {\n",
    "    \"barnesHut\": {\n",
    "      \"gravitationalConstant\":-2000,\n",
    "      \"centralGravity\": 0,\n",
    "      \"springLength\": 60,\n",
    "      \"springConstant\": 0.545,\n",
    "      \"damping\": 0.1,\n",
    "      \"avoidOverlap\": 0.52\n",
    "    },\n",
    "    \"maxVelocity:\":50,\n",
    "    \"minVelocity\": 0.75,\n",
    "    \"timestep\": 0.5\n",
    "  }\n",
    "}\n",
    "''')"
   ]
  },
  {
   "cell_type": "code",
   "execution_count": null,
   "metadata": {
    "id": "aVnFu9mEROur"
   },
   "outputs": [],
   "source": [
    "for atomo in range(14): \n",
    "  g3.add_node(atomo,label=ids[atomo],x=int(100*xs[atomo]),y=int(100*ys[atomo]),physics=True,size=30)"
   ]
  },
  {
   "cell_type": "code",
   "execution_count": null,
   "metadata": {
    "id": "gf3SoMlqRiRV"
   },
   "outputs": [],
   "source": [
    "g3.add_edges(bonds)"
   ]
  },
  {
   "cell_type": "code",
   "execution_count": null,
   "metadata": {
    "colab": {
     "base_uri": "https://localhost:8080/",
     "height": 438
    },
    "id": "F2t9G9JRSCBa",
    "outputId": "8a7d626b-5258-4fc3-8f8a-f5b38057a313"
   },
   "outputs": [],
   "source": [
    "show_graph_iframe(g3,'g3.html')"
   ]
  },
  {
   "cell_type": "code",
   "execution_count": null,
   "metadata": {
    "colab": {
     "base_uri": "https://localhost:8080/",
     "height": 695
    },
    "id": "5IVIOwHvSTX7",
    "outputId": "c5e8bc1e-00bb-4a0b-d9af-2c21f61ebfa2"
   },
   "outputs": [],
   "source": [
    "\n",
    "G = nx.karate_club_graph()\n",
    "\n",
    "\n",
    "g4 = net.Network(height='400px', width='50%',notebook=True,heading=\"Zachary's Karate Club graph\")\n",
    "g4.from_nx(G)\n",
    "\n",
    "g4.show_buttons(filter_=['physics'])\n",
    "# g4.show('karate.html')\n",
    "show_graph_iframe(g4, \"karate.html\")"
   ]
  },
  {
   "cell_type": "code",
   "execution_count": 7,
   "metadata": {},
   "outputs": [],
   "source": [
    "def get_subset_of_json(data, num_keys=10):\n",
    "    \"\"\"\n",
    "    Extract a subset of the JSON data containing a specified number of keys.\n",
    "    \n",
    "    :param data: The original JSON data as a dictionary.\n",
    "    :param num_keys: The number of keys to include in the subset.\n",
    "    :return: A dictionary containing a subset of the original JSON data.\n",
    "    \"\"\"\n",
    "    subset = {}\n",
    "    key_count = 0\n",
    "\n",
    "    for key, value in data.items():\n",
    "        if key_count >= num_keys:\n",
    "            break\n",
    "        subset[key] = value\n",
    "        key_count += 1\n",
    "\n",
    "    return subset"
   ]
  },
  {
   "cell_type": "code",
   "execution_count": 26,
   "metadata": {},
   "outputs": [
    {
     "data": {
      "text/html": [
       "<div>\n",
       "<style scoped>\n",
       "    .dataframe tbody tr th:only-of-type {\n",
       "        vertical-align: middle;\n",
       "    }\n",
       "\n",
       "    .dataframe tbody tr th {\n",
       "        vertical-align: top;\n",
       "    }\n",
       "\n",
       "    .dataframe thead th {\n",
       "        text-align: right;\n",
       "    }\n",
       "</style>\n",
       "<table border=\"1\" class=\"dataframe\">\n",
       "  <thead>\n",
       "    <tr style=\"text-align: right;\">\n",
       "      <th></th>\n",
       "      <th>Relationship</th>\n",
       "      <th>Number of Pairs</th>\n",
       "    </tr>\n",
       "  </thead>\n",
       "  <tbody>\n",
       "    <tr>\n",
       "      <th>30</th>\n",
       "      <td>is_date_of</td>\n",
       "      <td>2428</td>\n",
       "    </tr>\n",
       "    <tr>\n",
       "      <th>14</th>\n",
       "      <td>is_finding_of</td>\n",
       "      <td>2324</td>\n",
       "    </tr>\n",
       "    <tr>\n",
       "      <th>77</th>\n",
       "      <td>is_unit_of</td>\n",
       "      <td>1936</td>\n",
       "    </tr>\n",
       "    <tr>\n",
       "      <th>18</th>\n",
       "      <td>affects</td>\n",
       "      <td>1874</td>\n",
       "    </tr>\n",
       "    <tr>\n",
       "      <th>38</th>\n",
       "      <td>is_treatment_for</td>\n",
       "      <td>1719</td>\n",
       "    </tr>\n",
       "    <tr>\n",
       "      <th>...</th>\n",
       "      <td>...</td>\n",
       "      <td>...</td>\n",
       "    </tr>\n",
       "    <tr>\n",
       "      <th>107</th>\n",
       "      <td>is_part_of_assessment</td>\n",
       "      <td>1</td>\n",
       "    </tr>\n",
       "    <tr>\n",
       "      <th>106</th>\n",
       "      <td>is_measured_using</td>\n",
       "      <td>1</td>\n",
       "    </tr>\n",
       "    <tr>\n",
       "      <th>105</th>\n",
       "      <td>is_managed_with</td>\n",
       "      <td>1</td>\n",
       "    </tr>\n",
       "    <tr>\n",
       "      <th>104</th>\n",
       "      <td>is_evaluated_in_relation_to</td>\n",
       "      <td>1</td>\n",
       "    </tr>\n",
       "    <tr>\n",
       "      <th>206</th>\n",
       "      <td>is_monitored_with</td>\n",
       "      <td>1</td>\n",
       "    </tr>\n",
       "  </tbody>\n",
       "</table>\n",
       "<p>207 rows × 2 columns</p>\n",
       "</div>"
      ],
      "text/plain": [
       "                    Relationship  Number of Pairs\n",
       "30                    is_date_of             2428\n",
       "14                 is_finding_of             2324\n",
       "77                    is_unit_of             1936\n",
       "18                       affects             1874\n",
       "38              is_treatment_for             1719\n",
       "..                           ...              ...\n",
       "107        is_part_of_assessment                1\n",
       "106            is_measured_using                1\n",
       "105              is_managed_with                1\n",
       "104  is_evaluated_in_relation_to                1\n",
       "206            is_monitored_with                1\n",
       "\n",
       "[207 rows x 2 columns]"
      ]
     },
     "metadata": {},
     "output_type": "display_data"
    }
   ],
   "source": [
    "import pandas as pd\n",
    "\n",
    "def inspect_data(data):\n",
    "    \"\"\"\n",
    "    Inspect the JSON data and return a DataFrame with the number of domain/range pairs aggregated by relationship.\n",
    "    \n",
    "    :param data: The JSON data to inspect.\n",
    "    :return: A DataFrame with columns 'Relationship' and 'Number of Pairs'.\n",
    "    \"\"\"\n",
    "    relationship_summary = {}\n",
    "\n",
    "    for relationship, entries in data.items():\n",
    "        total_pairs_for_relationship = 0\n",
    "        for entry in entries:\n",
    "            domains = entry['domain']\n",
    "            ranges = entry['range']\n",
    "            num_pairs = len(domains) * len(ranges)\n",
    "            total_pairs_for_relationship += num_pairs\n",
    "\n",
    "        # Store the aggregated number of pairs for this relationship\n",
    "        relationship_summary[relationship] = total_pairs_for_relationship\n",
    "\n",
    "    # Convert the summary into a DataFrame\n",
    "    df_summary = pd.DataFrame(list(relationship_summary.items()), columns=['Relationship', 'Number of Pairs'])\n",
    "    df_summary.sort_values(by='Number of Pairs', ascending=False, inplace=True)\n",
    "    return df_summary\n",
    "\n",
    "# Example usage\n",
    "df = inspect_data(data)\n",
    "display(df)"
   ]
  },
  {
   "cell_type": "code",
   "execution_count": 32,
   "metadata": {
    "id": "Nzg5dkO65sbC"
   },
   "outputs": [
    {
     "name": "stdout",
     "output_type": "stream",
     "text": [
      "Warning: When  cdn_resources is 'local' jupyter notebook has issues displaying graphics on chrome/safari. Use cdn_resources='in_line' or cdn_resources='remote' if you have issues viewing graphics in a notebook.\n",
      "rel_pdac.html\n"
     ]
    },
    {
     "data": {
      "text/html": [
       "\n",
       "        <iframe\n",
       "            width=\"100%\"\n",
       "            height=\"400px\"\n",
       "            src=\"rel_pdac.html\"\n",
       "            frameborder=\"0\"\n",
       "            allowfullscreen\n",
       "            \n",
       "        ></iframe>\n",
       "        "
      ],
      "text/plain": [
       "<IPython.lib.display.IFrame at 0x20214ace190>"
      ]
     },
     "execution_count": 32,
     "metadata": {},
     "output_type": "execute_result"
    }
   ],
   "source": [
    "import json\n",
    "import random\n",
    "# from pyvis.network import Network\n",
    "\n",
    "json_file = \"rels_pdac.json\"\n",
    "\n",
    "# Load the JSON data\n",
    "with open(json_file, 'r') as file:\n",
    "    data = json.load(file)\n",
    "\n",
    "# Set the limit for the number of edges\n",
    "edge_limit = 500  # Change this to 200, 500, etc., as needed\n",
    "edge_count = 0\n",
    "\n",
    "# Initialize the PyVis Network\n",
    "g = net.Network(height=\"600px\", width=\"100%\", font_color=\"black\", heading=f'PDAC Relationships Graph (Top {edge_limit})', notebook=True)\n",
    "# g = net.Network(height=\"600px\", width=\"100%\", font_color=\"black\",notebook=True)\n",
    "\n",
    "g.barnes_hut()\n",
    "\n",
    "# List of special node values\n",
    "special_values = [\n",
    "    \"Diagnosis\", \"Treatment\", \"Symptoms/Complaints\", \"Past Medical History\",\n",
    "    \"Family History\", \"Social History\", \"Vitals/Measurements\", \"Laboratory Results\",\n",
    "    \"Imaging Findings\", \"Medications\", \"Allergies\", \"Performance Status\",\n",
    "    \"Comorbidities\", \"Procedures\", \"Anatomical Location\", \"Histology\",\n",
    "    \"Staging\", \"Genetic Information\", \"Psycho-oncology\"\n",
    "]\n",
    "\n",
    "# Convert special values to lowercase for case-insensitive comparison\n",
    "special_values_lower = [value.lower() for value in special_values]\n",
    "node_sizes = [10, 20, 30, 100]\n",
    "\n",
    "\n",
    "# Process each relationship type\n",
    "for relationship, entries in data.items():\n",
    "    for entry in entries:\n",
    "        if edge_count >= edge_limit:\n",
    "            break\n",
    "        domains = entry['domain']\n",
    "        ranges = entry['range']\n",
    "        for domain in domains:\n",
    "            if edge_count >= edge_limit:\n",
    "                break\n",
    "            node_size = node_sizes[3] if domain.lower() in special_values_lower else node_sizes[2]\n",
    "            node_color = 'pink' if domain.lower() in special_values_lower else 'lightblue'\n",
    "            g.add_node(domain, label=domain, title=domain, size=node_size, color=node_color)\n",
    "            for range_item in ranges:\n",
    "                if edge_count >= edge_limit:\n",
    "                    break\n",
    "                node_size = node_sizes[3] if range_item.lower() in special_values_lower else node_sizes[2]\n",
    "                node_color = 'pink' if range_item.lower() in special_values_lower else 'lightblue'\n",
    "                g.add_node(range_item, label=range_item, title=range_item, size=node_size, color=node_color)\n",
    "                g.add_edge(domain, range_item, title=relationship, label=relationship, value=random.randint(1, 10), color='gray')\n",
    "                edge_count += 1\n",
    "\n",
    "# Optionally show physics controls\n",
    "# g.show_buttons(filter_=['physics'])\n",
    "\n",
    "# Generate and display the graph\n",
    "show_graph_iframe(g, \"rel_pdac.html\")"
   ]
  },
  {
   "cell_type": "code",
   "execution_count": null,
   "metadata": {},
   "outputs": [],
   "source": []
  }
 ],
 "metadata": {
  "colab": {
   "authorship_tag": "ABX9TyMP6x0wOa8gCIQckzPCu/bj",
   "collapsed_sections": [],
   "include_colab_link": true,
   "name": "pyvis_sample.ipynb",
   "provenance": []
  },
  "kernelspec": {
   "display_name": "Python 3 (ipykernel)",
   "language": "python",
   "name": "python3"
  },
  "language_info": {
   "codemirror_mode": {
    "name": "ipython",
    "version": 3
   },
   "file_extension": ".py",
   "mimetype": "text/x-python",
   "name": "python",
   "nbconvert_exporter": "python",
   "pygments_lexer": "ipython3",
   "version": "3.11.11"
  }
 },
 "nbformat": 4,
 "nbformat_minor": 4
}
